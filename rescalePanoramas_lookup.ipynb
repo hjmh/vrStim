{
 "cells": [
  {
   "cell_type": "markdown",
   "id": "4f301893",
   "metadata": {},
   "source": [
    "# Rescale Images based on Projector Greyscale Transfer Function"
   ]
  },
  {
   "cell_type": "code",
   "execution_count": 1,
   "id": "28871fe3",
   "metadata": {},
   "outputs": [],
   "source": [
    "import numpy as np\n",
    "import matplotlib.pyplot as plt\n",
    "import pandas as pd\n",
    "import scipy as sp\n",
    "import seaborn as sns; sns.set()\n",
    "%matplotlib inline"
   ]
  },
  {
   "cell_type": "markdown",
   "id": "a15679c9",
   "metadata": {},
   "source": [
    "Specify measured screen brightness as a function of the stimulus no. from 1-11. "
   ]
  },
  {
   "cell_type": "code",
   "execution_count": 2,
   "id": "496a3709",
   "metadata": {},
   "outputs": [],
   "source": [
    "Dir = 'screenMeasurements/' #\"/Volumes/jayaramanlab/Shivam/\" #connect to dm11\n",
    "rig = \"Shivam\" #\"Shivam\"#\n",
    "reversevals = False\n",
    "\n",
    "if rig == \"Shivam\":\n",
    "    file = rig+\"Rig_brightness_level_6.csv\"\n",
    "else:\n",
    "    reversevals = True\n",
    "    file = rig+\"Rig_brightness.csv\"\n",
    "df = pd.read_csv(Dir+file)"
   ]
  },
  {
   "cell_type": "code",
   "execution_count": 3,
   "id": "624f5e7a",
   "metadata": {},
   "outputs": [
    {
     "data": {
      "image/png": "[encoded data removed]",
      "text/plain": [
       "<Figure size 432x288 with 1 Axes>"
      ]
     },
     "metadata": {
      "needs_background": "light"
     },
     "output_type": "display_data"
    }
   ],
   "source": [
    "if rig == \"Shivam\":\n",
    "    df['Stim'] = 12-df['Stim']\n",
    "    plt.plot(df['Stim'],df['I'],'o')\n",
    "    plt.xlabel(\"stimulus no.\")\n",
    "    plt.ylabel(\"intensity (a.u.)\")\n",
    "    plt.savefig(Dir+file[:-3],dpi=300)\n",
    "    \n",
    "else:\n",
    "    if reversevals: df['Stim'] = 1-df['Level']\n",
    "    #if min(df['Level'][0,:]) > 0: df['Level'][0,:] = df['Level'][0,:] - min(df['Level'][0,:])\n",
    "    #if max(df['Level'][0,:]) >= 10:  df['Level'][0,:] = df['Level'][0,:]/10\n",
    "    df['I'] = df[df.keys()[1]]\n",
    "    plt.plot(df['Stim'],df[df.keys()[1]],'o')\n",
    "    plt.xlabel(\"stimulus level\")\n",
    "    plt.ylabel(\"intensity (a.u.)\")\n",
    "    plt.savefig(Dir+file[:-3],dpi=300)"
   ]
  },
  {
   "cell_type": "code",
   "execution_count": 4,
   "id": "d5d4caa2",
   "metadata": {},
   "outputs": [],
   "source": [
    "mean_brightness = df.groupby(['Stim']).mean().round(2).reset_index()\n",
    "mean_brightness['Stim'] = np.linspace(0,255,num=len(mean_brightness['Stim']))\n",
    "mean_brightness['I'] = 255*(mean_brightness['I']-mean_brightness['I'].min())/(mean_brightness['I'].max()-mean_brightness['I'].min())"
   ]
  },
  {
   "cell_type": "code",
   "execution_count": 5,
   "id": "6f4783c7",
   "metadata": {},
   "outputs": [
    {
     "data": {
      "text/html": [
       "<div>\n",
       "<style scoped>\n",
       "    .dataframe tbody tr th:only-of-type {\n",
       "        vertical-align: middle;\n",
       "    }\n",
       "\n",
       "    .dataframe tbody tr th {\n",
       "        vertical-align: top;\n",
       "    }\n",
       "\n",
       "    .dataframe thead th {\n",
       "        text-align: right;\n",
       "    }\n",
       "</style>\n",
       "<table border=\"1\" class=\"dataframe\">\n",
       "  <thead>\n",
       "    <tr style=\"text-align: right;\">\n",
       "      <th></th>\n",
       "      <th>Stim</th>\n",
       "      <th>I</th>\n",
       "    </tr>\n",
       "  </thead>\n",
       "  <tbody>\n",
       "    <tr>\n",
       "      <th>0</th>\n",
       "      <td>0.0</td>\n",
       "      <td>0.000000</td>\n",
       "    </tr>\n",
       "    <tr>\n",
       "      <th>1</th>\n",
       "      <td>25.5</td>\n",
       "      <td>31.294046</td>\n",
       "    </tr>\n",
       "    <tr>\n",
       "      <th>2</th>\n",
       "      <td>51.0</td>\n",
       "      <td>57.630620</td>\n",
       "    </tr>\n",
       "    <tr>\n",
       "      <th>3</th>\n",
       "      <td>76.5</td>\n",
       "      <td>90.473876</td>\n",
       "    </tr>\n",
       "    <tr>\n",
       "      <th>4</th>\n",
       "      <td>102.0</td>\n",
       "      <td>115.261239</td>\n",
       "    </tr>\n",
       "    <tr>\n",
       "      <th>5</th>\n",
       "      <td>127.5</td>\n",
       "      <td>142.527339</td>\n",
       "    </tr>\n",
       "    <tr>\n",
       "      <th>6</th>\n",
       "      <td>153.0</td>\n",
       "      <td>163.906440</td>\n",
       "    </tr>\n",
       "    <tr>\n",
       "      <th>7</th>\n",
       "      <td>178.5</td>\n",
       "      <td>191.172539</td>\n",
       "    </tr>\n",
       "    <tr>\n",
       "      <th>8</th>\n",
       "      <td>204.0</td>\n",
       "      <td>212.861482</td>\n",
       "    </tr>\n",
       "    <tr>\n",
       "      <th>9</th>\n",
       "      <td>229.5</td>\n",
       "      <td>238.578372</td>\n",
       "    </tr>\n",
       "    <tr>\n",
       "      <th>10</th>\n",
       "      <td>255.0</td>\n",
       "      <td>255.000000</td>\n",
       "    </tr>\n",
       "  </tbody>\n",
       "</table>\n",
       "</div>"
      ],
      "text/plain": [
       "     Stim           I\n",
       "0     0.0    0.000000\n",
       "1    25.5   31.294046\n",
       "2    51.0   57.630620\n",
       "3    76.5   90.473876\n",
       "4   102.0  115.261239\n",
       "5   127.5  142.527339\n",
       "6   153.0  163.906440\n",
       "7   178.5  191.172539\n",
       "8   204.0  212.861482\n",
       "9   229.5  238.578372\n",
       "10  255.0  255.000000"
      ]
     },
     "execution_count": 5,
     "metadata": {},
     "output_type": "execute_result"
    }
   ],
   "source": [
    "mean_brightness"
   ]
  },
  {
   "cell_type": "markdown",
   "id": "1dc1f465",
   "metadata": {},
   "source": [
    "## Calculate Mean Brightness"
   ]
  },
  {
   "cell_type": "code",
   "execution_count": 6,
   "id": "19ec44c6",
   "metadata": {},
   "outputs": [],
   "source": [
    "mean_brightness.to_csv(Dir+'_'.join([file.split('_')[0],'mean']+file.split('_')[1:]))"
   ]
  },
  {
   "cell_type": "code",
   "execution_count": 7,
   "id": "0bd54de8",
   "metadata": {},
   "outputs": [
    {
     "data": {
      "image/png": "[encoded data removed]",
      "text/plain": [
       "<Figure size 432x288 with 1 Axes>"
      ]
     },
     "metadata": {
      "needs_background": "light"
     },
     "output_type": "display_data"
    }
   ],
   "source": [
    "plt.figure()\n",
    "b = sp.interpolate.interp1d(mean_brightness['Stim'], mean_brightness['I'],bounds_error=False)\n",
    "\n",
    "plt.plot(mean_brightness['Stim'],mean_brightness['I'],'o');\n",
    "plt.xlabel(\"$I_{in}$\"); plt.ylabel(\"$I_{out}$\");\n",
    "plt.title(r'$f(I)$');"
   ]
  },
  {
   "cell_type": "code",
   "execution_count": 8,
   "id": "22e555c2",
   "metadata": {},
   "outputs": [
    {
     "data": {
      "image/png": "[encoded data removed]",
      "text/plain": [
       "<Figure size 432x288 with 1 Axes>"
      ]
     },
     "metadata": {
      "needs_background": "light"
     },
     "output_type": "display_data"
    }
   ],
   "source": [
    "from scipy.optimize import minimize\n",
    "\n",
    "y = np.array(mean_brightness['I'])\n",
    "x = np.arange(0,256,1)\n",
    "y = np.zeros(x.shape)\n",
    "\n",
    "def diff(x,a):\n",
    "    yt = b(x)\n",
    "    return (yt - a)**2\n",
    "\n",
    "for idx,x_value in enumerate(x):\n",
    "    res = minimize(diff, 1.0, args=(x_value), method='Nelder-Mead', tol=1e-6)\n",
    "    y[idx] = res.x[0]\n",
    "\n",
    "plt.plot(mean_brightness['Stim'],mean_brightness['I'],'o');\n",
    "plt.plot(np.round(y).astype('int'),x)\n",
    "plt.title(r'$f(I)_{fit}$')\n",
    "plt.ylabel(\"$I_{out}$\"); plt.xlabel(\"$I_{in}$\");\n",
    "plt.savefig(Dir+'_'.join([file.split('_')[0],'mean']+file.split('_')[1:])[:-4]+\"_fit.png\",dpi=300)"
   ]
  },
  {
   "cell_type": "markdown",
   "id": "8426791a",
   "metadata": {},
   "source": [
    "#### Generate and save lookup table"
   ]
  },
  {
   "cell_type": "code",
   "execution_count": 9,
   "id": "69d228d4",
   "metadata": {},
   "outputs": [],
   "source": [
    "lookupDf = pd.DataFrame(np.array([np.round(y).astype('int'),x]).T, columns = [\"Iin\", \"Iout\"])"
   ]
  },
  {
   "cell_type": "code",
   "execution_count": 10,
   "id": "f0548fab",
   "metadata": {},
   "outputs": [],
   "source": [
    "lookupDf.to_csv(Dir+rig+\"Rig_lookup_table_transformed_brightness.csv\")"
   ]
  },
  {
   "cell_type": "markdown",
   "id": "563abf7f",
   "metadata": {},
   "source": [
    "#### Generate reshaped calibration images"
   ]
  },
  {
   "cell_type": "code",
   "execution_count": 11,
   "id": "f1cc0f3f",
   "metadata": {},
   "outputs": [],
   "source": [
    "def rescale(img):\n",
    "    x = img.flatten()\n",
    "    y = np.array(lookupDf.iloc[x]['Iin'])\n",
    "    imgT = y.reshape(np.shape(img))\n",
    "    return imgT"
   ]
  },
  {
   "cell_type": "code",
   "execution_count": 15,
   "id": "749c7506",
   "metadata": {},
   "outputs": [
    {
     "data": {
      "image/png": "[encoded data removed]",
      "text/plain": [
       "<Figure size 360x360 with 1 Axes>"
      ]
     },
     "metadata": {
      "needs_background": "light"
     },
     "output_type": "display_data"
    },
    {
     "data": {
      "image/png": "[encoded data removed]",
      "text/plain": [
       "<Figure size 360x360 with 1 Axes>"
      ]
     },
     "metadata": {
      "needs_background": "light"
     },
     "output_type": "display_data"
    }
   ],
   "source": [
    "from PIL import Image\n",
    "\n",
    "if rig==\"Shivam\": \n",
    "    or_path = \"calibration/originals\"\n",
    "    re_path = or_path.replace(\"originals\",\"reshaped\")\n",
    "else:\n",
    "    or_path = \"calibration\"\n",
    "    re_path = \"calibration\"\n",
    "\n",
    "for calibrange in [\"high\",\"low\"]:\n",
    "    mg = np.asarray(Image.open(or_path+'/BrightnessSteps_{}.png'.format(calibrange)))\n",
    "    fig = plt.figure(frameon=False)\n",
    "    fig.set_size_inches(5,5)\n",
    "    ax = plt.Axes(fig, [0., 0., 1., 1.])\n",
    "    ax.set_axis_off()\n",
    "    fig.add_axes(ax)\n",
    "    ax.imshow(rescale(mg), cmap='gray');\n",
    "    plt.savefig(re_path+'/BrightnessSteps_{}_reshaped_{}Rig.png'.format(calibrange,rig),dpi = 300);"
   ]
  },
  {
   "cell_type": "markdown",
   "id": "5cef33e6",
   "metadata": {},
   "source": [
    "#### Generate rescaled skybox images"
   ]
  },
  {
   "cell_type": "code",
   "execution_count": 16,
   "id": "2f97f5d5",
   "metadata": {},
   "outputs": [
    {
     "ename": "FileNotFoundError",
     "evalue": "[Errno 2] No such file or directory: './skyGradients/rescaled/19h/Skybox_BG_rescaledShiftedLess_Back_19h.png'",
     "output_type": "error",
     "traceback": [
      "\u001b[0;31m---------------------------------------------------------------------------\u001b[0m",
      "\u001b[0;31mFileNotFoundError\u001b[0m                         Traceback (most recent call last)",
      "\u001b[0;32m<ipython-input-16-91b002ffd070>\u001b[0m in \u001b[0;36m<module>\u001b[0;34m\u001b[0m\n\u001b[1;32m      7\u001b[0m \u001b[0;32mfor\u001b[0m \u001b[0mside\u001b[0m\u001b[0;34m,\u001b[0m \u001b[0mname\u001b[0m \u001b[0;32min\u001b[0m \u001b[0menumerate\u001b[0m\u001b[0;34m(\u001b[0m\u001b[0;34m[\u001b[0m\u001b[0;34m'Back'\u001b[0m\u001b[0;34m,\u001b[0m\u001b[0;34m'Right'\u001b[0m\u001b[0;34m,\u001b[0m\u001b[0;34m'Front'\u001b[0m\u001b[0;34m,\u001b[0m\u001b[0;34m'Left'\u001b[0m\u001b[0;34m,\u001b[0m\u001b[0;34m'Up'\u001b[0m\u001b[0;34m,\u001b[0m\u001b[0;34m'Down'\u001b[0m\u001b[0;34m]\u001b[0m\u001b[0;34m)\u001b[0m\u001b[0;34m:\u001b[0m\u001b[0;34m\u001b[0m\u001b[0;34m\u001b[0m\u001b[0m\n\u001b[1;32m      8\u001b[0m \u001b[0;34m\u001b[0m\u001b[0m\n\u001b[0;32m----> 9\u001b[0;31m     \u001b[0mgrad\u001b[0m \u001b[0;34m=\u001b[0m \u001b[0mnp\u001b[0m\u001b[0;34m.\u001b[0m\u001b[0masarray\u001b[0m\u001b[0;34m(\u001b[0m\u001b[0mImage\u001b[0m\u001b[0;34m.\u001b[0m\u001b[0mopen\u001b[0m\u001b[0;34m(\u001b[0m\u001b[0mpath\u001b[0m \u001b[0;34m+\u001b[0m \u001b[0;34m'Skybox_{}_{}_{}.png'\u001b[0m\u001b[0;34m.\u001b[0m\u001b[0mformat\u001b[0m\u001b[0;34m(\u001b[0m\u001b[0mprefix\u001b[0m\u001b[0;34m,\u001b[0m \u001b[0mname\u001b[0m\u001b[0;34m,\u001b[0m\u001b[0msavename\u001b[0m\u001b[0;34m)\u001b[0m\u001b[0;34m)\u001b[0m\u001b[0;34m)\u001b[0m\u001b[0;34m\u001b[0m\u001b[0;34m\u001b[0m\u001b[0m\n\u001b[0m\u001b[1;32m     10\u001b[0m     \u001b[0mfig\u001b[0m \u001b[0;34m=\u001b[0m \u001b[0mplt\u001b[0m\u001b[0;34m.\u001b[0m\u001b[0mfigure\u001b[0m\u001b[0;34m(\u001b[0m\u001b[0mframeon\u001b[0m\u001b[0;34m=\u001b[0m\u001b[0;32mFalse\u001b[0m\u001b[0;34m)\u001b[0m\u001b[0;34m\u001b[0m\u001b[0;34m\u001b[0m\u001b[0m\n\u001b[1;32m     11\u001b[0m     \u001b[0mfig\u001b[0m\u001b[0;34m.\u001b[0m\u001b[0mset_size_inches\u001b[0m\u001b[0;34m(\u001b[0m\u001b[0;36m5\u001b[0m\u001b[0;34m,\u001b[0m\u001b[0;36m5\u001b[0m\u001b[0;34m)\u001b[0m\u001b[0;34m\u001b[0m\u001b[0;34m\u001b[0m\u001b[0m\n",
      "\u001b[0;32m/usr/local/lib/python3.9/site-packages/PIL/Image.py\u001b[0m in \u001b[0;36mopen\u001b[0;34m(fp, mode, formats)\u001b[0m\n\u001b[1;32m   2889\u001b[0m \u001b[0;34m\u001b[0m\u001b[0m\n\u001b[1;32m   2890\u001b[0m     \u001b[0;32mif\u001b[0m \u001b[0mfilename\u001b[0m\u001b[0;34m:\u001b[0m\u001b[0;34m\u001b[0m\u001b[0;34m\u001b[0m\u001b[0m\n\u001b[0;32m-> 2891\u001b[0;31m         \u001b[0mfp\u001b[0m \u001b[0;34m=\u001b[0m \u001b[0mbuiltins\u001b[0m\u001b[0;34m.\u001b[0m\u001b[0mopen\u001b[0m\u001b[0;34m(\u001b[0m\u001b[0mfilename\u001b[0m\u001b[0;34m,\u001b[0m \u001b[0;34m\"rb\"\u001b[0m\u001b[0;34m)\u001b[0m\u001b[0;34m\u001b[0m\u001b[0;34m\u001b[0m\u001b[0m\n\u001b[0m\u001b[1;32m   2892\u001b[0m         \u001b[0mexclusive_fp\u001b[0m \u001b[0;34m=\u001b[0m \u001b[0;32mTrue\u001b[0m\u001b[0;34m\u001b[0m\u001b[0;34m\u001b[0m\u001b[0m\n\u001b[1;32m   2893\u001b[0m \u001b[0;34m\u001b[0m\u001b[0m\n",
      "\u001b[0;31mFileNotFoundError\u001b[0m: [Errno 2] No such file or directory: './skyGradients/rescaled/19h/Skybox_BG_rescaledShiftedLess_Back_19h.png'"
     ]
    }
   ],
   "source": [
    "maxBit = 255\n",
    "\n",
    "savename = '19h'\n",
    "prefix = 'BG_rescaledShiftedLess'\n",
    "path = './skyGradients/rescaled/'+savename+'/'\n",
    "\n",
    "for side, name in enumerate(['Back','Right','Front','Left','Up','Down']):\n",
    "    \n",
    "    grad = np.asarray(Image.open(path + 'Skybox_{}_{}_{}.png'.format(prefix, name,savename)))\n",
    "    fig = plt.figure(frameon=False)\n",
    "    fig.set_size_inches(5,5)\n",
    "    ax = plt.Axes(fig, [0., 0., 1., 1.])\n",
    "    ax.set_axis_off()\n",
    "    fig.add_axes(ax)\n",
    "    ax.imshow(rescale(grad),vmin=0,vmax=maxBit, cmap='gray')\n",
    "    fig.savefig(path+\"Skybox_{}_{}_{}_{}rig.png\".format(prefix, name,savename,rig),dpi = 300)"
   ]
  },
  {
   "cell_type": "markdown",
   "id": "dab42656",
   "metadata": {},
   "source": [
    "### Confirm Transformed Image is Linear on the Projector Screen"
   ]
  },
  {
   "cell_type": "code",
   "execution_count": 19,
   "id": "4dcc7ad4",
   "metadata": {},
   "outputs": [],
   "source": [
    "if rig == \"Shivam\":\n",
    "    file = rig+\"Rig_brightness_level_6_transformed.csv\"\n",
    "    dfT = pd.read_csv(Dir+file)\n",
    "    dfT['Stim'] = 12-dfT['Stim']\n",
    "else:\n",
    "    file = rig+\"Rig_brightness_transformed.csv\"\n",
    "    dfT = pd.read_csv(Dir+file)\n",
    "    if reversevals: dfT['Stim'] = 1-dfT['Level']\n",
    "    dfT['I'] = dfT[dfT.keys()[1]]\n",
    "\n",
    "    \n",
    "mean_brightness = dfT.groupby(['Stim']).mean().round(2).reset_index()\n",
    "mean_brightness['Stim'] = np.linspace(0,255,num=len(mean_brightness['Stim']))\n",
    "mean_brightness['I'] = 255*(mean_brightness['I']-mean_brightness['I'].min())/(mean_brightness['I'].max()-mean_brightness['I'].min())"
   ]
  },
  {
   "cell_type": "code",
   "execution_count": 20,
   "id": "f85a51ed",
   "metadata": {},
   "outputs": [
    {
     "data": {
      "image/png": "[encoded data removed]",
      "text/plain": [
       "<Figure size 432x288 with 1 Axes>"
      ]
     },
     "metadata": {
      "needs_background": "light"
     },
     "output_type": "display_data"
    }
   ],
   "source": [
    "plt.plot(dfT['Stim'],dfT['I'],'o')\n",
    "plt.xlabel(\"stimulus no.\")\n",
    "plt.ylabel(\"intensity (a.u.)\")\n",
    "plt.savefig(Dir+file[:-3],dpi=300)"
   ]
  }
 ],
 "metadata": {
  "kernelspec": {
   "display_name": "Python 3",
   "language": "python",
   "name": "python3"
  },
  "language_info": {
   "codemirror_mode": {
    "name": "ipython",
    "version": 3
   },
   "file_extension": ".py",
   "mimetype": "text/x-python",
   "name": "python",
   "nbconvert_exporter": "python",
   "pygments_lexer": "ipython3",
   "version": "3.9.7"
  },
  "widgets": {
   "application/vnd.jupyter.widget-state+json": {
    "state": {},
    "version_major": 2,
    "version_minor": 0
   }
  }
 },
 "nbformat": 4,
 "nbformat_minor": 5
}
